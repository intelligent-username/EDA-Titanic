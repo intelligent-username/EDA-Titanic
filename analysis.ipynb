{
 "cells": [
  {
   "cell_type": "markdown",
   "id": "27c3af2f",
   "metadata": {},
   "source": [
    "# Key Findings from Titanic Survival Analysis\n",
    "\n",
    "This exploratory data analysis investigates the factors that influenced passenger survival rates during the Titanic disaster. Our statistical analysis reveals:\n",
    "\n",
    "- **Passenger Class (Fare)**: The strongest predictor of survival with extremely high statistical significance (p < 10^-12)\n",
    "- **Gender**: Women had significantly higher survival rates than men among adults\n",
    "- **Boarding Location**: Where passengers embarked showed a statistically significant association with survival\n",
    "- **Age**: While children had higher survival rates, age was not a significant predictor among adults\n",
    "\n",
    "The following notebook walks through the statistical tests, visualizations, and analysis that support these findings."
   ]
  },
  {
   "cell_type": "markdown",
   "id": "55686162",
   "metadata": {},
   "source": [
    "# The Classical Titanic Dataset\n",
    "\n",
    "Let's get to work"
   ]
  },
  {
   "cell_type": "code",
   "execution_count": 1,
   "id": "7b34f8b4",
   "metadata": {},
   "outputs": [
    {
     "name": "stdout",
     "output_type": "stream",
     "text": [
      "We have data about 891 passengers and 21 features.\n",
      "Let's see if boarding location (Embarked) had an impact on survival rate.\n",
      "There are three groups: \n",
      "C:\t Cherbourg \n",
      "Q:\t Queenstown \n",
      "S:\t Southampton \n",
      "These are the locations where passengers boarded the Titanic. Below are the survival rates.\n",
      "\n",
      "Embarked\n",
      "C    0.553571\n",
      "Q    0.389610\n",
      "S    0.336957\n",
      "Name: Survived, dtype: float64\n",
      "There *seems* to be some difference in survival rates based on boarding location.\n",
      "Lets do some p-value testing to see if this is statistically significant.\n"
     ]
    }
   ],
   "source": [
    "import pandas as pd\n",
    "\n",
    "url = 'titanic.csv'\n",
    "# ok works\n",
    "\n",
    "df = pd.read_csv(url)\n",
    "# df.head()\n",
    "\n",
    "# print(\"Some statistics about missing values in the original, uncleaned dataset:\\n\", df.isna().sum())\n",
    "\n",
    "# print(\"\\n\\nDropping rows with missing 'Survived' column...\")\n",
    "\n",
    "df = df.dropna(subset=['Survived'])\n",
    "\n",
    "# print(df.isna().sum())\n",
    "\n",
    "print(\"We have data about\", df.shape[0], \"passengers and\", df.shape[1], \"features.\")\n",
    "\n",
    "print(\"Let's see if boarding location (Embarked) had an impact on survival rate.\")\n",
    "\n",
    "surv_by_emb_loc = df.groupby('Embarked')['Survived'].mean()\n",
    "\n",
    "print(\"There are three groups: \\n\\\n",
    "C:\\t Cherbourg \\n\\\n",
    "Q:\\t Queenstown \\n\\\n",
    "S:\\t Southampton \\n\\\n",
    "These are the locations where passengers boarded the Titanic. \\\n",
    "Below are the survival rates.\\n\")\n",
    "\n",
    "print(surv_by_emb_loc)\n",
    "\n",
    "print(\"There *seems* to be some difference in survival rates based on boarding location.\")\n",
    "print(\"Lets do some p-value testing to see if this is statistically significant.\")"
   ]
  },
  {
   "cell_type": "markdown",
   "id": "7e47fd88",
   "metadata": {},
   "source": [
    "# Embarked Location Vs. Survival Rate\n",
    "\n",
    "Does the port of entry affect the chances of survival?"
   ]
  },
  {
   "cell_type": "code",
   "execution_count": null,
   "id": "82921888",
   "metadata": {},
   "outputs": [
    {
     "data": {
      "text/markdown": [
       "The null hypothesis, $H_0$, is that survival rates are independent of boarding location."
      ],
      "text/plain": [
       "<IPython.core.display.Markdown object>"
      ]
     },
     "metadata": {},
     "output_type": "display_data"
    },
    {
     "name": "stdout",
     "output_type": "stream",
     "text": [
      "Let's see the p-value of seeing the outcome we did given the null hypothesis is true.\n"
     ]
    },
    {
     "data": {
      "text/markdown": [
       "| Embarked | Did Not Survive | Survived | Total |\n",
       "|---|---|---|---|\n",
       "| C | 75 | 93 | 168 |\n",
       "| Q | 47 | 30 | 77 |\n",
       "| S | 427 | 217 | 644 |\n"
      ],
      "text/plain": [
       "<IPython.core.display.Markdown object>"
      ]
     },
     "metadata": {},
     "output_type": "display_data"
    },
    {
     "name": "stdout",
     "output_type": "stream",
     "text": [
      "Starting Chi-Squared test..\n"
     ]
    },
    {
     "data": {
      "text/markdown": [
       "The formula for Chi-Squared is:"
      ],
      "text/plain": [
       "<IPython.core.display.Markdown object>"
      ]
     },
     "metadata": {},
     "output_type": "display_data"
    },
    {
     "data": {
      "text/latex": [
       "$\\displaystyle \\chi^2 = \\sum \\frac{(O - E)^2}{E}$"
      ],
      "text/plain": [
       "<IPython.core.display.Math object>"
      ]
     },
     "metadata": {},
     "output_type": "display_data"
    },
    {
     "data": {
      "text/markdown": [
       "Let's make the table for Expected values, $E$, based on the null hypothesis. Then, we can calculate the Chi-Squared statistic."
      ],
      "text/plain": [
       "<IPython.core.display.Markdown object>"
      ]
     },
     "metadata": {},
     "output_type": "display_data"
    },
    {
     "data": {
      "text/markdown": [
       "The expected values table is:"
      ],
      "text/plain": [
       "<IPython.core.display.Markdown object>"
      ]
     },
     "metadata": {},
     "output_type": "display_data"
    },
    {
     "data": {
      "text/markdown": [
       "| Embarked | Did Not Survive | Survived |\n",
       "|---|---|---|\n",
       "| C | 103.52 | 64.48 |\n",
       "| Q | 47.44 | 29.56 |\n",
       "| S | 396.81 | 247.19 |\n"
      ],
      "text/plain": [
       "<IPython.core.display.Markdown object>"
      ]
     },
     "metadata": {},
     "output_type": "display_data"
    },
    {
     "name": "stdout",
     "output_type": "stream",
     "text": [
      "Now let's find the chi-squared value.\n",
      "Note that finding the chi-squared value is just the same as\n",
      "finding the observed variance divided by the expected variance.\n"
     ]
    },
    {
     "data": {
      "text/markdown": [
       "The Chi-Squared statistic is: $\\chi^2 = 26.47$"
      ],
      "text/plain": [
       "<IPython.core.display.Markdown object>"
      ]
     },
     "metadata": {},
     "output_type": "display_data"
    },
    {
     "name": "stdout",
     "output_type": "stream",
     "text": [
      "Estimated p-value:\n"
     ]
    },
    {
     "data": {
      "text/markdown": [
       "$p = 2.681249 \\times 10^{-7}$"
      ],
      "text/plain": [
       "<IPython.core.display.Markdown object>"
      ]
     },
     "metadata": {},
     "output_type": "display_data"
    },
    {
     "name": "stdout",
     "output_type": "stream",
     "text": [
      "Since p-value < 0.05, we reject the null hypothesis.\n",
      "There is a statistically significant association between boarding location and survival rate.\n"
     ]
    }
   ],
   "source": [
    "from IPython.display import display, Math, Markdown\n",
    "import pandas as pd\n",
    "import math\n",
    "\n",
    "display(Markdown(\"The null hypothesis, $H_0$, is that survival rates are independent of boarding location.\"))\n",
    "\n",
    "print(\"Let's see the p-value of seeing the outcome we did given the null hypothesis is true.\")\n",
    "\n",
    "# Create the contingency table\n",
    "contingency_table = pd.crosstab(df['Embarked'], df['Survived'])\n",
    "\n",
    "# Rename columns\n",
    "contingency_table.rename(columns={0: 'Did Not Survive', 1: 'Survived'}, inplace=True)\n",
    "\n",
    "# Add total column\n",
    "contingency_table['Total'] = contingency_table.sum(axis=1)\n",
    "\n",
    "# Display as Markdown table\n",
    "header = ['Embarked'] + [str(col) for col in contingency_table.columns]\n",
    "rows = [contingency_table.index.astype(str).tolist()] + [\n",
    "    contingency_table[col].tolist() for col in contingency_table.columns\n",
    "]\n",
    "table_md = \"| \" + \" | \".join(header) + \" |\\n\"\n",
    "table_md += \"|---\" * len(header) + \"|\\n\"\n",
    "for i in range(len(contingency_table)):\n",
    "    table_md += \"| \" + \" | \".join(str(rows[j][i]) for j in range(len(rows))) + \" |\\n\"\n",
    "display(Markdown(table_md))\n",
    "\n",
    "print(\"Starting Chi-Squared test..\")\n",
    "\n",
    "display(Markdown(\"The formula for Chi-Squared is:\"))\n",
    "display(Math(r\"\\chi^2 = \\sum \\frac{(O - E)^2}{E}\"))\n",
    "\n",
    "display(Markdown(\"Let's make the table for Expected values, $E$, based on the null hypothesis. Then, we can calculate the Chi-Squared statistic.\"))\n",
    "\n",
    "# Number of Survivors / Total Number of People\n",
    "survival_rate = df['Survived'].mean()\n",
    "\n",
    "# Make expected table\n",
    "expected_table = contingency_table.copy()\n",
    "expected_table['Survived'] = (contingency_table['Total'] * survival_rate).round(2)\n",
    "expected_table['Did Not Survive'] = (contingency_table['Total'] * (1 - survival_rate)).round(2)\n",
    "expected_table = expected_table.drop(columns=['Total'])\n",
    "expected_table = expected_table[['Did Not Survive', 'Survived']]\n",
    "\n",
    "# Display expected table as Markdown\n",
    "header = ['Embarked'] + [str(col) for col in expected_table.columns]\n",
    "rows = [expected_table.index.astype(str).tolist()] + [\n",
    "    expected_table[col].tolist() for col in expected_table.columns\n",
    "]\n",
    "table_md = \"| \" + \" | \".join(header) + \" |\\n\"\n",
    "table_md += \"|---\" * len(header) + \"|\\n\"\n",
    "for i in range(len(expected_table)):\n",
    "    table_md += \"| \" + \" | \".join(str(rows[j][i]) for j in range(len(rows))) + \" |\\n\"\n",
    "display(Markdown(\"The expected values table is:\"))\n",
    "display(Markdown(table_md))\n",
    "\n",
    "print(\"Now let's find the chi-squared value.\")\n",
    "print(\"Note that finding the chi-squared value is just the same as\")\n",
    "print(f\"finding the observed variance divided by the expected variance.\")\n",
    "\n",
    "chi_sqr = 0\n",
    "\n",
    "for loc in contingency_table.index:\n",
    "    for outcome in ['Did Not Survive', 'Survived']:\n",
    "        O = contingency_table.loc[loc, outcome]\n",
    "        E = expected_table.loc[loc, outcome]\n",
    "        chi_sqr += (O - E) ** 2 / E\n",
    "\n",
    "display(Markdown(f\"The Chi-Squared statistic is: $\\\\chi^2 = {chi_sqr:.2f}$\"))\n",
    "\n",
    "# Degrees of freedom\n",
    "r = 2       # number of rows\n",
    "c = 2       # number of columns\n",
    "d_f = (r-1)*(c-1)\n",
    "\n",
    "# Can use seaborn's function but wanted to implement from scratch.\n",
    "# Chi-squared PDF formula:\n",
    "# f(x; k) = (1 / (2^(k/2) * Gamma(k/2))) * x^(k/2 - 1) * exp(-x/2)\n",
    "# where k = degrees of freedom, x > 0\n",
    "\n",
    "# Right-tail p-value formula:\n",
    "# p = integral from chi_sqr to infinity of f(x; df) dx\n",
    "# This is the probability of observing a chi-squared value at least as large as chi_sqr\n",
    "\n",
    "# Implement the gamma function via math.gamma\n",
    "def chi_squared_pdf(x, k):\n",
    "    return (1 / (2**(k/2) * math.gamma(k/2))) * x**(k/2 - 1) * math.exp(-x/2)\n",
    "\n",
    "\n",
    "# Numerical integration (trapezoid rule) from chi_sqr to a large number\n",
    "# Did by hand for 'fun'\n",
    "upper_limit = chi_sqr*10  # sufficiently far right\n",
    "steps = 100000\n",
    "dx = (upper_limit - chi_sqr) / steps\n",
    "p_value = 0\n",
    "for i in range(steps):\n",
    "    x0 = chi_sqr + i*dx\n",
    "    x1 = chi_sqr + (i+1)*dx\n",
    "    p_value += (chi_squared_pdf(x0, d_f) + chi_squared_pdf(x1, d_f)) / 2 * dx\n",
    "\n",
    "mantissa, exponent = f\"{p_value:.6e}\".split(\"e\")\n",
    "exponent = int(exponent)\n",
    "print(\"Estimated p-value:\")\n",
    "display(Markdown(f'$p = {mantissa} \\\\times 10^{{{exponent}}}$'))\n",
    "\n",
    "threshold = 0.05\n",
    "\n",
    "if p_value < threshold:\n",
    "    print(f\"Since p-value < {threshold}, we reject the null hypothesis.\")\n",
    "    print(\"There is a statistically significant association between boarding location and survival rate.\")\n",
    "else:\n",
    "    print(f\"Since p-value >= {threshold}, we fail to reject the null hypothesis.\")\n",
    "    print(\"There is no statistically significant association between boarding location and survival rate.\")"
   ]
  },
  {
   "cell_type": "code",
   "execution_count": 3,
   "id": "87a6ba08",
   "metadata": {},
   "outputs": [
    {
     "name": "stdout",
     "output_type": "stream",
     "text": [
      "Now, we see that the null hypothesis can be rejected, and so we may conclude that boarding location not having an impact on survival rate is false.\n",
      "Thus, we can assume the negation of it and say that boarding location has some sort of association with survival rate\n"
     ]
    }
   ],
   "source": [
    "print(\"Now, we see that the null hypothesis can be rejected, and so we may conclude that boarding location not having an impact on survival rate is false.\")\n",
    "print(\"Thus, we can assume the negation of it and say that boarding location has some sort of association with survival rate\")"
   ]
  },
  {
   "cell_type": "markdown",
   "id": "52b8dda3",
   "metadata": {},
   "source": [
    "# Gender Vs. Survival\n",
    "\n",
    "Is it true that women and children were given preferential treatment during the evacuation?\n"
   ]
  },
  {
   "cell_type": "code",
   "execution_count": 4,
   "id": "475a9276",
   "metadata": {},
   "outputs": [
    {
     "name": "stdout",
     "output_type": "stream",
     "text": [
      "Now let's investigate if women were given preferential treatment during the evacuation.\n",
      "First, filter out the children to ensure that boys (who were also given preferential treatment because they were children) do not balance out the results.\n",
      "We have data about 601 adult passengers and 21 features.\n",
      "395 male and 206 female\n",
      "-----------------------------\n",
      "-----------------------------\n",
      "-----------------------------\n",
      "\n",
      "Now, let's construct the contingency tables.\n",
      "\n"
     ]
    },
    {
     "data": {
      "text/markdown": [
       "| Gender | Did Not Survive | Survived | Total |\n",
       "|---|---|---|---|\n",
       "| female | 47 | 159 | 206 |\n",
       "| male | 325 | 70 | 395 |\n"
      ],
      "text/plain": [
       "<IPython.core.display.Markdown object>"
      ]
     },
     "metadata": {},
     "output_type": "display_data"
    },
    {
     "data": {
      "text/markdown": [
       "The null hypothesis, $H_0$, is that survival rates are independent of gender."
      ],
      "text/plain": [
       "<IPython.core.display.Markdown object>"
      ]
     },
     "metadata": {},
     "output_type": "display_data"
    },
    {
     "name": "stdout",
     "output_type": "stream",
     "text": [
      "The expected table for that would be:\n"
     ]
    },
    {
     "data": {
      "text/markdown": [
       "| Gender | Did Not Survive | Survived |\n",
       "|---|---|---|\n",
       "| female | 127.51 | 78.49 |\n",
       "| male | 244.49 | 150.51 |\n"
      ],
      "text/plain": [
       "<IPython.core.display.Markdown object>"
      ]
     },
     "metadata": {},
     "output_type": "display_data"
    },
    {
     "name": "stdout",
     "output_type": "stream",
     "text": [
      "Okay, we see the disparity, now let's calculate the Chi-Squared value.\n",
      "The Chi-Squared statistic is: χ² = 202.99\n"
     ]
    },
    {
     "data": {
      "text/markdown": [
       "P-value: $p = 4.64 \\times 10^{-46}$"
      ],
      "text/plain": [
       "<IPython.core.display.Markdown object>"
      ]
     },
     "metadata": {},
     "output_type": "display_data"
    },
    {
     "name": "stdout",
     "output_type": "stream",
     "text": [
      "Since p-value < 0.05, we reject the null hypothesis.\n",
      "There is a statistically significant association between gender and survival.\n"
     ]
    }
   ],
   "source": [
    "import pandas as pd\n",
    "from IPython.display import display, Math, Markdown\n",
    "from scipy.stats import chi2\n",
    "\n",
    "url = 'titanic.csv'\n",
    "df = pd.read_csv(url)\n",
    "\n",
    "df = df.dropna(subset=['Survived'])\n",
    "\n",
    "print(\"Now let's investigate if women were given preferential treatment during the evacuation.\")\n",
    "print(\"First, filter out the children to ensure that boys (who were also given preferential treatment because they were children) do not balance out the results.\")\n",
    "\n",
    "df = df[df['Age'] >= 18]\n",
    "\n",
    "print(f\"We have data about {df.shape[0]} adult passengers and {df.shape[1]} features.\")\n",
    "print(f\"{df[df['Sex'] == 'male'].shape[0]} male and {df[df['Sex'] == 'female'].shape[0]} female\")\n",
    "\n",
    "print(\"-----------------------------\")\n",
    "print(\"-----------------------------\")\n",
    "print(\"-----------------------------\")\n",
    "print()\n",
    "\n",
    "print(\"Now, let's construct the contingency tables.\")\n",
    "print()\n",
    "\n",
    "# Create the contingency table\n",
    "contingency_table = pd.crosstab(df['Sex'], df['Survived'])\n",
    "\n",
    "# Rename columns\n",
    "contingency_table.rename(columns={0: 'Did Not Survive', 1: 'Survived'}, inplace=True)\n",
    "\n",
    "# Add total column\n",
    "contingency_table['Total'] = contingency_table.sum(axis=1)\n",
    "\n",
    "# Display as Markdown table\n",
    "header = ['Gender'] + [str(col) for col in contingency_table.columns]\n",
    "rows = [contingency_table.index.astype(str).tolist()] + [\n",
    "    contingency_table[col].tolist() for col in contingency_table.columns\n",
    "]\n",
    "table_md = \"| \" + \" | \".join(header) + \" |\\n\"\n",
    "table_md += \"|---\" * len(header) + \"|\\n\"\n",
    "for i in range(len(contingency_table)):\n",
    "    table_md += \"| \" + \" | \".join(str(rows[j][i]) for j in range(len(rows))) + \" |\\n\"\n",
    "display(Markdown(table_md))\n",
    "\n",
    "display(Markdown(\"The null hypothesis, $H_0$, is that survival rates are independent of gender.\"))\n",
    "print(\"The expected table for that would be:\")\n",
    "\n",
    "total = df.shape[0]\n",
    "total_men = df[df['Sex'] == 'male'].shape[0]\n",
    "total_women = df[df['Sex'] == 'female'].shape[0]\n",
    "\n",
    "survival_rate = df['Survived'].mean()\n",
    "\n",
    "expected_table = contingency_table.copy()\n",
    "\n",
    "expected_table['Survived'] = (contingency_table['Total'] * survival_rate).round(2)\n",
    "expected_table['Did Not Survive'] = (contingency_table['Total'] * (1 - survival_rate)).round(2)\n",
    "\n",
    "# Now print the expected table using the same markdown format as before\n",
    "expected_table = expected_table.drop(columns=['Total'])\n",
    "expected_table = expected_table[['Did Not Survive', 'Survived']]\n",
    "\n",
    "# Display expected table as Markdown\n",
    "\n",
    "header = ['Gender'] + [str(col) for col in expected_table.columns]\n",
    "rows = [expected_table.index.astype(str).tolist()] + [\n",
    "    expected_table[col].tolist() for col in expected_table.columns\n",
    "]\n",
    "table_md2 = \"| \" + \" | \".join(header) + \" |\\n\"\n",
    "table_md2 += \"|---\" * len(header) + \"|\\n\"\n",
    "for i in range(len(expected_table)):\n",
    "    table_md2 += \"| \" + \" | \".join(str(rows[j][i]) for j in range(len(rows))) + \" |\\n\"\n",
    "display(Markdown(table_md2))\n",
    "\n",
    "print(\"Okay, we see the disparity, now let's calculate the Chi-Squared value.\")\n",
    "\n",
    "chi_sqr = 0\n",
    "\n",
    "for loc in contingency_table.index:\n",
    "    for outcome in ['Did Not Survive', 'Survived']:\n",
    "        O = contingency_table.loc[loc, outcome]\n",
    "        E = expected_table.loc[loc, outcome]\n",
    "        chi_sqr += (O - E) ** 2 / E\n",
    "\n",
    "print(f\"The Chi-Squared statistic is: χ² = {chi_sqr:.2f}\")\n",
    "\n",
    "# Degrees of freedom\n",
    "r = 2       # number of rows\n",
    "c = 2       # number of columns\n",
    "\n",
    "d_f = (r-1)*(c-1)  # Degrees of Freedom.\n",
    "\n",
    "p = chi2.sf(chi_sqr, d_f)\n",
    "\n",
    "mantissa, exponent = f\"{p:.2e}\".split(\"e\")\n",
    "exponent = int(exponent)\n",
    "display(Markdown(f\"P-value: $p = {mantissa} \\\\times 10^{{{exponent}}}$\"))\n",
    "\n",
    "threshold = 0.05\n",
    "if p < threshold:\n",
    "    print(f\"Since p-value < {threshold}, we reject the null hypothesis.\")\n",
    "    print(\"There is a statistically significant association between gender and survival.\")\n",
    "else:\n",
    "    print(f\"Since p-value >= {threshold}, we fail to reject the null hypothesis.\")\n",
    "    print(\"There is no statistically significant association between gender and survival.\") \n",
    "\n"
   ]
  },
  {
   "cell_type": "markdown",
   "id": "76515b27",
   "metadata": {},
   "source": [
    "# Age Vs. Survival\n",
    "\n",
    "Now accounting for age"
   ]
  },
  {
   "cell_type": "code",
   "execution_count": 5,
   "id": "558be7ca",
   "metadata": {},
   "outputs": [
    {
     "name": "stdout",
     "output_type": "stream",
     "text": [
      "Analyzing 601 passengers...\n"
     ]
    },
    {
     "data": {
      "text/markdown": [
       "**Logistic Regression Results:**"
      ],
      "text/plain": [
       "<IPython.core.display.Markdown object>"
      ]
     },
     "metadata": {},
     "output_type": "display_data"
    },
    {
     "data": {
      "text/markdown": [
       "Coefficient for Age: 0.0023"
      ],
      "text/plain": [
       "<IPython.core.display.Markdown object>"
      ]
     },
     "metadata": {},
     "output_type": "display_data"
    },
    {
     "data": {
      "text/markdown": [
       "P-value for Age: $p = 7.41 \\times 10^{-1}$"
      ],
      "text/plain": [
       "<IPython.core.display.Markdown object>"
      ]
     },
     "metadata": {},
     "output_type": "display_data"
    },
    {
     "name": "stdout",
     "output_type": "stream",
     "text": [
      "Since p-value >= 0.05, we fail to reject the null hypothesis.\n",
      "There is no statistically significant association between Age and Survival.\n"
     ]
    },
    {
     "data": {
      "image/png": "[encoded data removed]",
      "text/plain": [
       "<Figure size 1000x600 with 1 Axes>"
      ]
     },
     "metadata": {},
     "output_type": "display_data"
    },
    {
     "data": {
      "image/png": "[encoded data removed]",
      "text/plain": [
       "<Figure size 1000x600 with 1 Axes>"
      ]
     },
     "metadata": {},
     "output_type": "display_data"
    },
    {
     "name": "stdout",
     "output_type": "stream",
     "text": [
      "Note: once we take out the >= 18 filter, the p-value becomes larger by about 2 orders of magnitude, indicating that children had a great impact on survival statistics. \n",
      "But, once we filter them out, age still has a statistically insignificant (i.e. among adults, age was not a meaningful predictor of survival).\n"
     ]
    }
   ],
   "source": [
    "import pandas as pd\n",
    "import matplotlib.pyplot as plt\n",
    "import numpy as np\n",
    "from IPython.display import display, Markdown\n",
    "import statsmodels.api as sm\n",
    "import seaborn as sns\n",
    "\n",
    "# Load data\n",
    "url = 'titanic.csv'\n",
    "df = pd.read_csv(url)\n",
    "df = df.dropna(subset=['Survived', 'Age'])\n",
    "\n",
    "# Filter adults\n",
    "df = df[df['Age'] >= 18]\n",
    "\n",
    "print(f\"Analyzing {df.shape[0]} passengers...\")\n",
    "\n",
    "# Logistic regression: Survived ~ Age\n",
    "X = sm.add_constant(df['Age'])  # add intercept\n",
    "y = df['Survived']\n",
    "\n",
    "logit_model = sm.Logit(y, X)\n",
    "result = logit_model.fit(disp=False)\n",
    "\n",
    "# Coefficient and p-value\n",
    "coef_age = result.params['Age']\n",
    "p_value = result.pvalues['Age']\n",
    "\n",
    "display(Markdown(f\"**Logistic Regression Results:**\"))\n",
    "display(Markdown(f\"Coefficient for Age: {coef_age:.4f}\"))\n",
    "mantissa, exponent = f\"{p_value:.2e}\".split(\"e\")\n",
    "exponent = int(exponent)\n",
    "display(Markdown(f\"P-value for Age: $p = {mantissa} \\\\times 10^{{{exponent}}}$\"))\n",
    "\n",
    "threshold = 0.05\n",
    "if p_value < threshold:\n",
    "    print(f\"Since p-value < {threshold}, we reject the null hypothesis.\")\n",
    "    print(\"There is a statistically significant association between Age and Survival.\")\n",
    "else:\n",
    "    print(f\"Since p-value >= {threshold}, we fail to reject the null hypothesis.\")\n",
    "    print(\"There is no statistically significant association between Age and Survival.\")\n",
    "\n",
    "# Violin plot instead of scatter plot\n",
    "plt.figure(figsize=(10,6))\n",
    "sns.violinplot(x='Survived', y='Age', data=df, inner='quartile', cut=0)\n",
    "\n",
    "plt.xticks([0, 1], ['Did Not Survive', 'Survived'])\n",
    "\n",
    "plt.xlabel(\"Survival\")\n",
    "plt.ylabel(\"Age\")\n",
    "\n",
    "plt.title(\"Age Distribution by Survival\")\n",
    "\n",
    "plt.show()\n",
    "\n",
    "# Histogram normalized to % survived per bin\n",
    "bins = 20\n",
    "bin_edges = np.linspace(df['Age'].min(), df['Age'].max(), bins+1)\n",
    "bin_centers = 0.5*(bin_edges[1:] + bin_edges[:-1])\n",
    "\n",
    "frac_survived = []\n",
    "for i in range(bins):\n",
    "    bin_mask = (df['Age'] >= bin_edges[i]) & (df['Age'] < bin_edges[i+1])\n",
    "    bin_total = bin_mask.sum()\n",
    "    if bin_total == 0:\n",
    "        frac_survived.append(0)\n",
    "    else:\n",
    "        frac_survived.append(df.loc[bin_mask, 'Survived'].mean()*100)  # percentage\n",
    "\n",
    "plt.figure(figsize=(10,6))\n",
    "plt.bar(bin_centers, frac_survived, width=bin_edges[1]-bin_edges[0], alpha=0.7)\n",
    "plt.xlabel(\"Age\")\n",
    "plt.ylabel(\"% Survived\")\n",
    "plt.title(\"Normalized Age Distribution by Survival\")\n",
    "plt.show()\n",
    "\n",
    "print(\"Note: once we take out the >= 18 filter, the p-value becomes larger by about 2 orders of magnitude, indicating that children had a great impact on survival statistics. \")\n",
    "print(\"But, once we filter them out, age still has a statistically insignificant (i.e. among adults, age was not a meaningful predictor of survival).\")\n"
   ]
  },
  {
   "cell_type": "markdown",
   "id": "86e5741e",
   "metadata": {},
   "source": [
    "# Ticket Class Vs. Survival"
   ]
  },
  {
   "cell_type": "code",
   "execution_count": 6,
   "id": "71b46f59",
   "metadata": {},
   "outputs": [
    {
     "name": "stdout",
     "output_type": "stream",
     "text": [
      "Analyzing 891 passengers with fare data...\n"
     ]
    },
    {
     "data": {
      "text/markdown": [
       "**Logistic Regression Results:**"
      ],
      "text/plain": [
       "<IPython.core.display.Markdown object>"
      ]
     },
     "metadata": {},
     "output_type": "display_data"
    },
    {
     "data": {
      "text/markdown": [
       "Coefficient for Fare: 0.0152"
      ],
      "text/plain": [
       "<IPython.core.display.Markdown object>"
      ]
     },
     "metadata": {},
     "output_type": "display_data"
    },
    {
     "data": {
      "text/markdown": [
       "P-value for Fare: $p = 9.86 \\times 10^{-12}$"
      ],
      "text/plain": [
       "<IPython.core.display.Markdown object>"
      ]
     },
     "metadata": {},
     "output_type": "display_data"
    },
    {
     "name": "stdout",
     "output_type": "stream",
     "text": [
      "Since p-value < 0.05, we reject the null hypothesis.\n",
      "There is a statistically significant association between Fare and Survival.\n",
      "So, in conclusion, ticket price by FAR had the greatest impact on surivval, with the p-value being less than one in a trillion (given the null hypothesis)\n"
     ]
    }
   ],
   "source": [
    "import pandas as pd\n",
    "import matplotlib.pyplot as plt\n",
    "import numpy as np\n",
    "from IPython.display import display, Markdown\n",
    "import statsmodels.api as sm\n",
    "import seaborn as sns\n",
    "\n",
    "# Load data\n",
    "url = 'titanic.csv'\n",
    "df = pd.read_csv(url)\n",
    "df = df.dropna(subset=['Survived', 'Fare'])  # use Ticket price (Fare)\n",
    "\n",
    "print(f\"Analyzing {df.shape[0]} passengers with fare data...\")\n",
    "\n",
    "# Logistic regression: Survived ~ Fare\n",
    "X = sm.add_constant(df['Fare'])  # add intercept\n",
    "y = df['Survived']\n",
    "\n",
    "logit_model = sm.Logit(y, X)\n",
    "result = logit_model.fit(disp=False)\n",
    "\n",
    "# Coefficient and p-value\n",
    "coef_fare = result.params['Fare']\n",
    "p_value = result.pvalues['Fare']\n",
    "\n",
    "display(Markdown(f\"**Logistic Regression Results:**\"))\n",
    "display(Markdown(f\"Coefficient for Fare: {coef_fare:.4f}\"))\n",
    "mantissa, exponent = f\"{p_value:.2e}\".split(\"e\")\n",
    "exponent = int(exponent)\n",
    "display(Markdown(f\"P-value for Fare: $p = {mantissa} \\\\times 10^{{{exponent}}}$\"))\n",
    "\n",
    "threshold = 0.05\n",
    "if p_value < threshold:\n",
    "    print(f\"Since p-value < {threshold}, we reject the null hypothesis.\")\n",
    "    print(\"There is a statistically significant association between Fare and Survival.\")\n",
    "else:\n",
    "    print(f\"Since p-value >= {threshold}, we fail to reject the null hypothesis.\")\n",
    "    print(\"There is no statistically significant association between Fare and Survival.\")\n",
    "\n",
    "print(\"So, in conclusion, ticket price by FAR had the greatest impact on surivval, with the p-value being less than one in a trillion (given the null hypothesis)\")\n"
   ]
  }
 ],
 "metadata": {
  "kernelspec": {
   "display_name": "eda-titanic",
   "language": "python",
   "name": "python3"
  },
  "language_info": {
   "codemirror_mode": {
    "name": "ipython",
    "version": 3
   },
   "file_extension": ".py",
   "mimetype": "text/x-python",
   "name": "python",
   "nbconvert_exporter": "python",
   "pygments_lexer": "ipython3",
   "version": "3.13.5"
  }
 },
 "nbformat": 4,
 "nbformat_minor": 5
}
